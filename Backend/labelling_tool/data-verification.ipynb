{
 "cells": [
  {
   "cell_type": "code",
   "execution_count": 2,
   "metadata": {
    "ExecuteTime": {
     "end_time": "2024-03-12T05:02:03.288855Z",
     "start_time": "2024-03-12T05:01:45.624060Z"
    }
   },
   "outputs": [],
   "source": [
    "import os, shutil\n",
    "\n",
    "import keras\n",
    "import numpy as np\n",
    "\n",
    "from PIL import Image\n",
    "\n",
    "import ipywidgets as widgets\n",
    "from ipywidgets import interact, interact_manual\n",
    "\n",
    "import matplotlib as mpl\n",
    "import matplotlib.cm as cm\n",
    "import matplotlib.pyplot as plt\n",
    "\n",
    "from matplotlib.colors import LinearSegmentedColormap, ListedColormap\n",
    "from mpl_toolkits.axes_grid1 import make_axes_locatable\n",
    "from matplotlib.ticker import FormatStrFormatter"
   ]
  },
  {
   "cell_type": "markdown",
   "metadata": {},
   "source": [
    "## Change these values"
   ]
  },
  {
   "cell_type": "code",
   "execution_count": 3,
   "metadata": {
    "ExecuteTime": {
     "end_time": "2024-03-12T05:02:03.303569Z",
     "start_time": "2024-03-12T05:02:03.293165Z"
    }
   },
   "outputs": [],
   "source": [
    "root = r\"/Users/robertocastello/deneb/labelling_tool\" # The root of your git folder\n",
    "folder_verify = \"images_valid\" # The folder containing images to verify (images_valid or images_test)\n",
    "destination_folders = ['images_relabel', 'images_ignore'] # The folders to move images to"
   ]
  },
  {
   "cell_type": "markdown",
   "metadata": {},
   "source": [
    "# --------------"
   ]
  },
  {
   "cell_type": "code",
   "execution_count": 4,
   "metadata": {
    "ExecuteTime": {
     "end_time": "2024-03-12T05:02:03.322088Z",
     "start_time": "2024-03-12T05:02:03.305727Z"
    }
   },
   "outputs": [],
   "source": [
    "for folder in destination_folders:\n",
    "    for subfolder in [\"labels\", \"originals\", \"noPV\"]:\n",
    "        fullfolder = os.path.join(root, folder, subfolder)\n",
    "        if not os.path.isdir(fullfolder):\n",
    "            os.makedirs(fullfolder)"
   ]
  },
  {
   "cell_type": "code",
   "execution_count": 5,
   "metadata": {
    "ExecuteTime": {
     "end_time": "2024-03-12T05:02:03.357419Z",
     "start_time": "2024-03-12T05:02:03.330208Z"
    }
   },
   "outputs": [],
   "source": [
    "def load_eval_images(x_eval_dir, y_eval_dir, nopv_dir = None, valid = False):\n",
    "#     x_eval_dir = r\"C:\\Users\\SimonRoquette\\Documents\\solarPV\\new_test_images/PV/originals\"\n",
    "#     y_eval_dir = r\"C:\\Users\\SimonRoquette\\Documents\\solarPV\\new_test_images/PV/labels/\"\n",
    "#     nopv_dir = r\"C:\\Users\\SimonRoquette\\Documents\\solarPV\\images_test\\noPV\"\n",
    "\n",
    "    x_image_paths = [os.path.join(x_eval_dir, f) for f in os.listdir(x_eval_dir)]\n",
    "    x_eval = np.array([np.array(Image.open(f), dtype='uint8') for f in x_image_paths])\n",
    "    x_eval_nopad = x_eval\n",
    "    x_eval = np.pad(x_eval, ((0, 0), (3, 3), (3,3), (0, 0)), mode=\"constant\", constant_values=0)\n",
    "\n",
    "    y_image_paths = [os.path.join(os.path.dirname(os.path.dirname(f)), \"labels\", \n",
    "                                   os.path.basename(f).replace(\".png\", \"_label.png\")) for f in x_image_paths]\n",
    "    y_eval = [np.array(Image.open(f), dtype='uint8') for f in y_image_paths]\n",
    "    y_eval = np.array([a[:, :, 0] if len(a.shape) == 3 else a for a in y_eval])\n",
    "    y_eval_nopad = np.array(y_eval)\n",
    "    if valid:\n",
    "        y_eval = np.pad(y_eval, ((0, 0), (3, 3), (3,3)), mode=\"constant\", constant_values=0)\n",
    "    y_eval = np.stack((np.where(y_eval == 0, 1, 0),\n",
    "                        y_eval), axis=-1)\n",
    "    y_eval = y_eval.astype(np.bool)\n",
    "   \n",
    "    if nopv_dir is not None:\n",
    "        image_paths = [os.path.join(nopv_dir, f) for f in os.listdir(nopv_dir)]\n",
    "        x_nopv = np.array([np.array(Image.open(f), dtype='uint8') for f in image_paths])\n",
    "        x_nopv = np.pad(x_nopv, ((0, 0), (3, 3), (3,3), (0, 0)), mode=\"constant\", constant_values=0)\n",
    "\n",
    "        side = 256 if valid else 250\n",
    "        y_nopv = np.stack((np.ones((len(x_nopv), side, side), dtype=np.bool),\n",
    "                           np.zeros((len(x_nopv), side, side), dtype=np.bool)),\n",
    "                          axis=-1)\n",
    "        \n",
    "        print(\"Loaded %i Pv images, and %i non PV\" % (len(x_eval), len(x_nopv)))\n",
    "        \n",
    "        # Including noPV\n",
    "        X_test = np.concatenate((x_eval, x_nopv))\n",
    "        Y_test = np.concatenate((y_eval, y_nopv)).astype(\"float32\")\n",
    "        x_image_paths = x_image_paths + image_paths\n",
    "    else :\n",
    "        print(\"Loaded %i PV images\" % (len(x_eval)))\n",
    "        X_test = x_eval\n",
    "        Y_test = y_eval.astype(\"float32\")\n",
    "    \n",
    "    return X_test, Y_test, x_image_paths"
   ]
  },
  {
   "cell_type": "code",
   "execution_count": 6,
   "metadata": {
    "ExecuteTime": {
     "end_time": "2024-03-12T05:02:05.094816Z",
     "start_time": "2024-03-12T05:02:03.361756Z"
    }
   },
   "outputs": [
    {
     "ename": "FileNotFoundError",
     "evalue": "[WinError 3] The system cannot find the path specified: '/Users/robertocastello/deneb/labelling_tool\\\\images_valid\\\\originals'",
     "output_type": "error",
     "traceback": [
      "\u001B[1;31m---------------------------------------------------------------------------\u001B[0m",
      "\u001B[1;31mFileNotFoundError\u001B[0m                         Traceback (most recent call last)",
      "Cell \u001B[1;32mIn[6], line 5\u001B[0m\n\u001B[0;32m      2\u001B[0m y_test_dir \u001B[38;5;241m=\u001B[39m os\u001B[38;5;241m.\u001B[39mpath\u001B[38;5;241m.\u001B[39mjoin(root, folder_verify, \u001B[38;5;124m\"\u001B[39m\u001B[38;5;124mlabels\u001B[39m\u001B[38;5;124m\"\u001B[39m)\n\u001B[0;32m      3\u001B[0m test_nopv_dir \u001B[38;5;241m=\u001B[39m os\u001B[38;5;241m.\u001B[39mpath\u001B[38;5;241m.\u001B[39mjoin(root, folder_verify, \u001B[38;5;124m\"\u001B[39m\u001B[38;5;124mnoPV\u001B[39m\u001B[38;5;124m\"\u001B[39m)\n\u001B[1;32m----> 5\u001B[0m X_test, Y_test, test_image_paths \u001B[38;5;241m=\u001B[39m \u001B[43mload_eval_images\u001B[49m\u001B[43m(\u001B[49m\u001B[43mx_test_dir\u001B[49m\u001B[43m,\u001B[49m\u001B[43m \u001B[49m\u001B[43my_test_dir\u001B[49m\u001B[43m,\u001B[49m\u001B[43m \u001B[49m\u001B[43mtest_nopv_dir\u001B[49m\u001B[43m)\u001B[49m\n",
      "Cell \u001B[1;32mIn[5], line 6\u001B[0m, in \u001B[0;36mload_eval_images\u001B[1;34m(x_eval_dir, y_eval_dir, nopv_dir, valid)\u001B[0m\n\u001B[0;32m      1\u001B[0m \u001B[38;5;28;01mdef\u001B[39;00m \u001B[38;5;21mload_eval_images\u001B[39m(x_eval_dir, y_eval_dir, nopv_dir \u001B[38;5;241m=\u001B[39m \u001B[38;5;28;01mNone\u001B[39;00m, valid \u001B[38;5;241m=\u001B[39m \u001B[38;5;28;01mFalse\u001B[39;00m):\n\u001B[0;32m      2\u001B[0m \u001B[38;5;66;03m#     x_eval_dir = r\"C:\\Users\\SimonRoquette\\Documents\\solarPV\\new_test_images/PV/originals\"\u001B[39;00m\n\u001B[0;32m      3\u001B[0m \u001B[38;5;66;03m#     y_eval_dir = r\"C:\\Users\\SimonRoquette\\Documents\\solarPV\\new_test_images/PV/labels/\"\u001B[39;00m\n\u001B[0;32m      4\u001B[0m \u001B[38;5;66;03m#     nopv_dir = r\"C:\\Users\\SimonRoquette\\Documents\\solarPV\\images_test\\noPV\"\u001B[39;00m\n\u001B[1;32m----> 6\u001B[0m     x_image_paths \u001B[38;5;241m=\u001B[39m [os\u001B[38;5;241m.\u001B[39mpath\u001B[38;5;241m.\u001B[39mjoin(x_eval_dir, f) \u001B[38;5;28;01mfor\u001B[39;00m f \u001B[38;5;129;01min\u001B[39;00m \u001B[43mos\u001B[49m\u001B[38;5;241;43m.\u001B[39;49m\u001B[43mlistdir\u001B[49m\u001B[43m(\u001B[49m\u001B[43mx_eval_dir\u001B[49m\u001B[43m)\u001B[49m]\n\u001B[0;32m      7\u001B[0m     x_eval \u001B[38;5;241m=\u001B[39m np\u001B[38;5;241m.\u001B[39marray([np\u001B[38;5;241m.\u001B[39marray(Image\u001B[38;5;241m.\u001B[39mopen(f), dtype\u001B[38;5;241m=\u001B[39m\u001B[38;5;124m'\u001B[39m\u001B[38;5;124muint8\u001B[39m\u001B[38;5;124m'\u001B[39m) \u001B[38;5;28;01mfor\u001B[39;00m f \u001B[38;5;129;01min\u001B[39;00m x_image_paths])\n\u001B[0;32m      8\u001B[0m     x_eval_nopad \u001B[38;5;241m=\u001B[39m x_eval\n",
      "\u001B[1;31mFileNotFoundError\u001B[0m: [WinError 3] The system cannot find the path specified: '/Users/robertocastello/deneb/labelling_tool\\\\images_valid\\\\originals'"
     ]
    }
   ],
   "source": [
    "x_test_dir = os.path.join(root, folder_verify, \"originals\")\n",
    "y_test_dir = os.path.join(root, folder_verify, \"labels\")\n",
    "test_nopv_dir = os.path.join(root, folder_verify, \"noPV\")\n",
    "\n",
    "X_test, Y_test, test_image_paths = load_eval_images(x_test_dir, y_test_dir, test_nopv_dir)"
   ]
  },
  {
   "cell_type": "code",
   "execution_count": null,
   "metadata": {
    "ExecuteTime": {
     "end_time": "2024-03-12T05:02:05.097005Z",
     "start_time": "2024-03-12T05:02:05.097005Z"
    }
   },
   "outputs": [],
   "source": [
    "ops = []\n",
    "\n",
    "def on_button_click_i(directory_dest, image, selector, noPV= False):\n",
    "    def on_button_click(b):\n",
    "        \n",
    "        if noPV:\n",
    "            from_original = os.path.join(root, folder_verify, \"noPV\", image)\n",
    "            to_original = os.path.join(root, directory_dest, \"noPV\", image)\n",
    "            shutil.move(from_original, to_original)\n",
    "            ops.append((from_original, to_original))\n",
    "        else :  \n",
    "            labelimage = image.replace(\".png\", \"_label.png\")\n",
    "\n",
    "            from_original = os.path.join(root, folder_verify, \"originals\", image)\n",
    "            to_original = os.path.join(root, directory_dest, \"originals\", image)\n",
    "\n",
    "            from_label = os.path.join(root, folder_verify, \"labels\", labelimage)\n",
    "            to_label = os.path.join(root, directory_dest, \"labels\" , labelimage)\n",
    "\n",
    "            shutil.move(from_original, to_original)\n",
    "            ops.append((from_original, to_original))\n",
    "\n",
    "            shutil.move(from_label, to_label)\n",
    "            ops.append((from_label, to_label))\n",
    "        \n",
    "        print(\"Moved :\", image)\n",
    "#         print(\"From :\", os.path.join(root, r\"SI_25_classes\\all_pv\", image))\n",
    "#         print(\"To : \", os.path.join(root, directory_dest, \"originals\", image))\n",
    "    return on_button_click\n",
    "\n",
    "def on_click_cancel(b, ops=ops):\n",
    "    op1 = ops[-2]\n",
    "    op2 = ops[-1]\n",
    "    \n",
    "    shutil.move(op1[1], op1[0])\n",
    "    print(\"Moved :\", op1[1])\n",
    "    print(\"Back to :\", op1[0])\n",
    "    \n",
    "    shutil.move(op2[1], op2[0])\n",
    "    print(\"Moved :\", op2[1])\n",
    "    print(\"Back to :\", op2[0])\n",
    "          \n",
    "    del ops[-1]\n",
    "    del ops[-1]\n",
    "\n",
    "def on_button_update(selector, value = 1):\n",
    "    def on_button_click(b):\n",
    "        selector.value = selector.value + value\n",
    "    return on_button_click"
   ]
  },
  {
   "cell_type": "code",
   "execution_count": null,
   "metadata": {
    "scrolled": false,
    "ExecuteTime": {
     "end_time": "2024-03-12T05:02:05.100272Z",
     "start_time": "2024-03-12T05:02:05.099193Z"
    }
   },
   "outputs": [],
   "source": [
    "cmaplabel = LinearSegmentedColormap.from_list('mycmap', [(0,1, 0,c) for c in np.linspace(0,1,100)], N=5)\n",
    "norm = mpl.colors.Normalize(vmin=-2, vmax=1)\n",
    "colors = ['b','r','none', \"g\"]\n",
    "cmap = ListedColormap(colors)\n",
    "m = cm.ScalarMappable(norm=norm, cmap=cmap)\n",
    "\n",
    "beg_selector = widgets.IntText(\n",
    "                        value=0,\n",
    "                        description='Image :',\n",
    "                        disabled=False\n",
    "                    )\n",
    "\n",
    "directory_destination = widgets.Dropdown(\n",
    "    options= destination_folders,\n",
    "    value=destination_folders[0],\n",
    "    description='Dest:',\n",
    "    disabled=False\n",
    ")\n",
    "\n",
    "button_move = widgets.Button(\n",
    "    description='Move to Dest',\n",
    "    disabled=False,\n",
    "    button_style='success', # 'success', 'info', 'warning', 'danger' or ''\n",
    "    tooltip='Click me',\n",
    "    icon='' # (FontAwesome names without the `fa-` prefix)\n",
    ")\n",
    "\n",
    "button_keep = widgets.Button(\n",
    "    description='Keep in current folder',\n",
    "    disabled=False,\n",
    "    button_style='danger', # 'success', 'info', 'warning', 'danger' or ''\n",
    "    tooltip='Click me',\n",
    "    icon='' # (FontAwesome names without the `fa-` prefix)\n",
    ")\n",
    "\n",
    "button_undo = widgets.Button(\n",
    "    description='Undo Previous',\n",
    "    disabled=False,\n",
    "    button_style='warning', # 'success', 'info', 'warning', 'danger' or ''\n",
    "    tooltip='Click me',\n",
    "    icon='' # (FontAwesome names without the `fa-` prefix)\n",
    ")\n",
    "\n",
    "button_undo.on_click(on_click_cancel)\n",
    "button_undo.on_click(on_button_update(beg_selector, -1))\n",
    "\n",
    "button_keep.on_click(on_button_update(beg_selector, 1))\n",
    "\n",
    "display(button_move, button_keep, button_undo)\n",
    "\n",
    "@interact\n",
    "def interactive_image_threshold(i = beg_selector, dir_dest = directory_destination):\n",
    "    noPV = \"noPV\" in test_image_paths[i]\n",
    "    \n",
    "    imagename = os.path.basename(test_image_paths[i])\n",
    "    button_move._click_handlers.callbacks = [on_button_update(beg_selector, 1)]\n",
    "    button_move.on_click(on_button_click_i(dir_dest, imagename, beg_selector, noPV))\n",
    "\n",
    "    fig, ax = plt.subplots(1, 2, figsize=(16, 16))\n",
    "    ax[0].imshow(X_test[i][3:-3, 3:-3, :])\n",
    "\n",
    "    # Color Bar\n",
    "    divider = make_axes_locatable(ax[1])\n",
    "    cax = divider.append_axes(\"right\", size=\"7%\", pad=0.05)\n",
    "    cbar = plt.colorbar(m, cax=cax)\n",
    "    cbar.ax.get_yaxis().set_ticks([])\n",
    "    for j, lab in enumerate(['FN','FP','TN','TP']):\n",
    "        cbar.ax.text(-0.5, (4 * (j-2)) / 6, lab, ha='center', va='center', fontweight=\"bold\",\n",
    "                     color = \"white\" if lab != \"TN\" else \"black\")\n",
    "    cbar.ax.get_yaxis().labelpad = 15\n",
    "    cbar.ax.set_ylabel('Truth', rotation=270)\n",
    "\n",
    "    print(imagename)\n",
    "\n",
    "    ax[1].imshow(X_test[i][3:-3, 3:-3, :])\n",
    "    ax[1].imshow(Y_test[i, :, :, 1], cmap = cmaplabel)\n",
    "    ax[1].set_title((\"Label (i : %i)\" % i))"
   ]
  },
  {
   "cell_type": "code",
   "execution_count": null,
   "metadata": {
    "ExecuteTime": {
     "end_time": "2024-03-12T05:02:05.117230Z",
     "start_time": "2024-03-12T05:02:05.117230Z"
    }
   },
   "outputs": [],
   "source": [
    "test_image_paths[0]"
   ]
  },
  {
   "cell_type": "code",
   "execution_count": null,
   "metadata": {
    "ExecuteTime": {
     "end_time": "2024-03-12T05:02:05.124791Z",
     "start_time": "2024-03-12T05:02:05.122372Z"
    }
   },
   "outputs": [],
   "source": [
    "test_image_paths[0]"
   ]
  }
 ],
 "metadata": {
  "kernelspec": {
   "name": "python3",
   "language": "python",
   "display_name": "Python 3 (ipykernel)"
  },
  "language_info": {
   "codemirror_mode": {
    "name": "ipython",
    "version": 3
   },
   "file_extension": ".py",
   "mimetype": "text/x-python",
   "name": "python",
   "nbconvert_exporter": "python",
   "pygments_lexer": "ipython3",
   "version": "3.6.7"
  }
 },
 "nbformat": 4,
 "nbformat_minor": 4
}
